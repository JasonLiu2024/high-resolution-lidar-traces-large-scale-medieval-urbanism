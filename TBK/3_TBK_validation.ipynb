{
 "cells": [
  {
   "cell_type": "code",
   "execution_count": 1,
   "metadata": {},
   "outputs": [],
   "source": [
    "# TGB is 180 hectares\n",
    "import numpy as np\n",
    "import matplotlib.pyplot as plt\n",
    "import importlib as imp\n",
    "import Radar_drawn\n",
    "import os\n",
    "import matplotlib.patches as patches"
   ]
  },
  {
   "cell_type": "code",
   "execution_count": null,
   "metadata": {},
   "outputs": [],
   "source": [
    "from PIL import Image\n",
    "# in following line, replace 'gpr_image' with the composite gpr image\n",
    "background = np.asarray(Image.open('gpr_image.png'))\n",
    "print(f\"background shape: {np.asarray(background).shape}\")\n",
    "image_mask = np.loadtxt(f'union_mask.txt') # not square\n",
    "mask_x, mask_y = image_mask.shape\n",
    "image_mask = image_mask[mask_x - mask_y:]\n",
    "print(f\"mask shape: {image_mask.shape}\")\n",
    "# culled_background = background * image_mask"
   ]
  },
  {
   "cell_type": "code",
   "execution_count": null,
   "metadata": {},
   "outputs": [],
   "source": [
    "\"\"\"Visualize GPR image, cropped with the region used for comparison\"\"\"\n",
    "f, ax = plt.subplots(figsize=(16, 8), ncols=2)\n",
    "culled_background = background[:, :, :3] * image_mask[:, :, np.newaxis]\n",
    "culled_background_flip = 255 - culled_background\n",
    "ax[0].imshow((culled_background).astype(np.uint8))\n",
    "ax[1].imshow((culled_background_flip).astype(np.uint8))"
   ]
  },
  {
   "cell_type": "code",
   "execution_count": 4,
   "metadata": {},
   "outputs": [],
   "source": [
    "project_name = 'TBK_mesh_n=4_depth=10' # name of project, must be same as that used in previous files!\n",
    "crestlines_lines_mask = np.loadtxt(f'{project_name}_crestlines_lines_mask.txt')\n",
    "image_lines_composite_mask = np.loadtxt(\"image_ridges_composite.txt\")\n",
    "mask = np.loadtxt(f'{project_name}_union_mask.txt') # NOTE: same as image_mask\n",
    "# apply the mask, so we only compare what's inside the area it represents\n",
    "crestline_mask = crestlines_lines_mask * mask\n",
    "radar_mask = image_lines_composite_mask * mask"
   ]
  },
  {
   "cell_type": "code",
   "execution_count": 5,
   "metadata": {},
   "outputs": [],
   "source": [
    "beginning = np.loadtxt(fname=f'{project_name}_crestline_2d_vertices_start.txt')\n",
    "ending = np.loadtxt(fname=f'{project_name}_crestline_2d_vertices_end.txt')"
   ]
  },
  {
   "cell_type": "code",
   "execution_count": null,
   "metadata": {},
   "outputs": [],
   "source": [
    "pc_max_x = max(beginning[:, 0].max(), ending[:, 0].max())\n",
    "pc_max_y = max(beginning[:, 1].max(), ending[:, 1].max())\n",
    "pc_min_x = min(beginning[:, 0].min(), ending[:, 0].min())\n",
    "pc_min_y = min(beginning[:, 1].min(), ending[:, 1].min())\n",
    "print(f\"bounding box in Point Cloud units: \"\n",
    "      f\"\\n\\tx in {pc_min_x, pc_max_x},\"\n",
    "      f\"\\n\\ty in {pc_min_y, pc_max_y}\")"
   ]
  },
  {
   "cell_type": "code",
   "execution_count": null,
   "metadata": {},
   "outputs": [],
   "source": [
    "image_x, image_y = crestline_mask.shape\n",
    "x_lower_bound = 0\n",
    "for x in range(image_x):\n",
    "    if np.sum(crestline_mask[x]) == 0:\n",
    "        x_lower_bound = x\n",
    "    else:\n",
    "        break\n",
    "x_upper_bound = image_x\n",
    "for x in range(image_x).__reversed__():\n",
    "    if np.sum(crestline_mask[x]) == 0:\n",
    "        x_upper_bound = x\n",
    "    else:\n",
    "        break\n",
    "y_lower_bound = 0\n",
    "for y in range(image_y):\n",
    "    if np.sum(crestline_mask[:,y]) == 0:\n",
    "        y_lower_bound = y\n",
    "    else:\n",
    "        break\n",
    "y_upper_bound = image_y\n",
    "for y in range(image_y).__reversed__():\n",
    "    if np.sum(crestline_mask[:,y]) == 0:\n",
    "        y_upper_bound = y\n",
    "    else:\n",
    "        break\n",
    "print(f\"bounding box in pixels: x in {x_lower_bound, x_upper_bound}\")\n",
    "print(f\"bounding box in pixels: y in {y_lower_bound, y_upper_bound}\")\n",
    "thicken = 40\n",
    "x_hi = x_upper_bound + thicken\n",
    "x_lo = x_lower_bound - thicken\n",
    "y_hi = y_upper_bound + thicken\n",
    "y_lo = y_lower_bound - thicken\n",
    "print(f\"displaying cropper box in pixels: x in {x_lo, x_hi}\")\n",
    "print(f\"displaying cropper box in pixels: y in {y_lo, y_hi}\")"
   ]
  },
  {
   "cell_type": "code",
   "execution_count": null,
   "metadata": {},
   "outputs": [],
   "source": [
    "def irl_to_pixel(irl_length : float):\n",
    "    return int(irl_length \n",
    "        * (x_upper_bound - x_lower_bound) / (204.597716)\n",
    "        )\n",
    "test_irl_radius = 0.8\n",
    "print(f\"{test_irl_radius} is {irl_to_pixel(test_irl_radius)} pixels\")\n",
    "h = \"#32a852\"\n",
    "def toRGB(h : str):\n",
    "    return np.asarray(list(int(h.lstrip(\"#\")[i:i+2], 16) for i in (0, 2, 4)))\n",
    "toRGB(h)"
   ]
  },
  {
   "cell_type": "code",
   "execution_count": null,
   "metadata": {},
   "outputs": [],
   "source": [
    "\"\"\"view image mask\"\"\"\n",
    "# f, ax = plt.subplots(figsize=(8, 8))\n",
    "# print(image_mask[x_lo:x_hi, y_lo:y_hi].shape)\n",
    "# ax.imshow(image_mask[x_lo:x_hi, y_lo:y_hi])\n",
    "# print(np.sum(image_mask))\n",
    "# print(np.size(image_mask) - np.sum(image_mask))\n",
    "# print(np.size(image_mask))\n",
    "# rect = patches.Rectangle((thicken, thicken), \n",
    "#     (y_upper_bound - y_lower_bound),\n",
    "#     (x_upper_bound - x_lower_bound),  \n",
    "#     linewidth=2, edgecolor='r', facecolor='none')\n",
    "# ax.add_patch(rect)"
   ]
  },
  {
   "cell_type": "code",
   "execution_count": null,
   "metadata": {},
   "outputs": [],
   "source": [
    "\"\"\"Good Version\"\"\"\n",
    "imp.reload(Radar_drawn)\n",
    "# 1.2=11, 1.1=10, 1.0=9, 0.9=8, 0.8=7\n",
    "irl_radius = 1.2 # current: 1.1\n",
    "pixel_radius = irl_to_pixel(irl_radius)\n",
    "# make folder\n",
    "folder = \"\"# f\"irl={irl_radius}_px={pixel_radius}\"\n",
    "# os.mkdir(folder)\n",
    "print(f\"{irl_radius} in real life is {pixel_radius} in the picture\")\n",
    "comparer = Radar_drawn.Comparer(name=project_name, \n",
    "    mask_a=radar_mask[x_lo:x_hi, y_lo:y_hi], \n",
    "    mask_b=crestline_mask[x_lo:x_hi, y_lo:y_hi],\n",
    "    names={},\n",
    "    background=culled_background_flip[x_lo:x_hi, y_lo:y_hi],\n",
    "    result_filename=f'TBK_d=11_n=4_irl={irl_radius}_r={pixel_radius}px',\n",
    "    dir=folder,\n",
    "    filetype='tiff',\n",
    "    DPI=600\n",
    ")\n",
    "# _ = comparer.CM(\n",
    "#     true_pos_color=np.asarray([0, 51, 102]), #toRGB(\"#2ab7ca\"),\n",
    "#     false_pos_color=np.asarray([255, 153, 0]), #toRGB(\"#fed766\"),\n",
    "#     false_neg_color=np.asarray([128, 128, 128]), #toRGB(\"#fe4a49\"),\n",
    "#     true_neg_color=np.asarray([50, 50, 50]),\n",
    "#     background_color=toRGB(\"#ffffff\"),\n",
    "#     comparison_space=(image_mask).astype(np.uint8)[x_lo:x_hi, y_lo:y_hi],\n",
    "#     radius=pixel_radius,\n",
    "#     save=True,\n",
    "#     figsize=(12, 12), # for comparison\n",
    "# )\n",
    "# _ = comparer.detect_b_to_a_thicken(radius=pixel_radius, DPI=600)\n",
    "# _ = comparer.detect_a_to_b(radius=pixel_radius, DPI=600)\n",
    "# _ = comparer.GPR_image()\n",
    "# _ = comparer.GPR_lines()\n",
    "# _ = comparer.crest_lines()\n",
    "# _ = comparer.centerline_over_background(background=culled_background_flip[x_lo:x_hi, y_lo:y_hi].astype(np.uint8))"
   ]
  }
 ],
 "metadata": {
  "kernelspec": {
   "display_name": "base",
   "language": "python",
   "name": "python3"
  },
  "language_info": {
   "codemirror_mode": {
    "name": "ipython",
    "version": 3
   },
   "file_extension": ".py",
   "mimetype": "text/x-python",
   "name": "python",
   "nbconvert_exporter": "python",
   "pygments_lexer": "ipython3",
   "version": "3.9.13"
  },
  "orig_nbformat": 4
 },
 "nbformat": 4,
 "nbformat_minor": 2
}
