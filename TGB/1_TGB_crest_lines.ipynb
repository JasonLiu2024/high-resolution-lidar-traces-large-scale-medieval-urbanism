{
 "cells": [
  {
   "cell_type": "code",
   "execution_count": 2,
   "metadata": {},
   "outputs": [],
   "source": [
    "import os\n",
    "import open3d as o3d\n",
    "from FeatureLines import get_mesh, to_pseudo_PLY2, ReadCrestLine"
   ]
  },
  {
   "cell_type": "code",
   "execution_count": 3,
   "metadata": {},
   "outputs": [
    {
     "name": "stdout",
     "output_type": "stream",
     "text": [
      "project name: TGB_mesh_n=7_depth=11\n"
     ]
    }
   ],
   "source": [
    "neighbor = 7\n",
    "# 'depth' is for record-keeping. Its value does not affect the calculations in this file\n",
    "depth = 11 # mesh reconstruction depth\n",
    "mesh_name = 'TGB_mesh' # name of mesh file, obtained from point_cloud_to_mesh.ipynb\n",
    "here = os.getcwd() # full path/file address to this folder\n",
    "mesh_file = f\"{mesh_name}.ply\"\n",
    "ply2_name = f\"{mesh_name}_k={neighbor}_ply2.txt\"\n",
    "project_name = f'{mesh_name}_n={neighbor}_depth={depth}'\n",
    "print(f\"project name: {project_name}\")"
   ]
  },
  {
   "cell_type": "code",
   "execution_count": 6,
   "metadata": {},
   "outputs": [
    {
     "name": "stdout",
     "output_type": "stream",
     "text": [
      "TriangleMesh with 333307 points and 664100 triangles.\n",
      "3D Lidar data: \tTGB_mesh.ply\n",
      "neighbor value: k = 7\n",
      "PLY2 file: \tTGB_mesh_k=7_ply2.txt\n",
      "Success: TGB_mesh_k=7_ply2.txt\n",
      "in CrestCODE, we programmatically enter: ./setCurvature TGB_mesh_k=7_ply2.txt output.txt\n"
     ]
    }
   ],
   "source": [
    "os.chdir(here)\n",
    "V, F = get_mesh(mesh_file)\n",
    "print(f\"3D Lidar data: \\t{mesh_file}\")\n",
    "print(f\"neighbor value: k = {neighbor}\")\n",
    "print(f\"PLY2 file: \\t{ply2_name}\")\n",
    "to_pseudo_PLY2(name=ply2_name, verts=V, faces=F, neighbor=neighbor)\n",
    "crestcode_input = f\"./setCurvature {ply2_name} output.txt\"\n",
    "print(f\"in CrestCODE, we programmatically enter: {crestcode_input}\")\n",
    "keeper = \"ravines.txt\"\n",
    "os.rename(ply2_name, f'CrestCODE/{ply2_name}')"
   ]
  },
  {
   "cell_type": "code",
   "execution_count": 9,
   "metadata": {},
   "outputs": [
    {
     "name": "stdout",
     "output_type": "stream",
     "text": [
      "/Users/kronos.di.vlad/Desktop/ComputerGraphics_2023SP/Code/TGB/CrestCODE\n"
     ]
    }
   ],
   "source": [
    "os.chdir('CrestCODE/')\n",
    "os.system('pwd')\n",
    "os.system(crestcode_input)"
   ]
  },
  {
   "cell_type": "code",
   "execution_count": null,
   "metadata": {},
   "outputs": [],
   "source": [
    "# os.system('rm ridges.txt')\n",
    "os.system(f'rm {ply2_name}')\n",
    "# os.system('rm output.txt')\n",
    "os.system('pwd')\n",
    "os.rename('ravines.txt', f'../Open3d_Test/{project_name}_ravines.txt')\n",
    "os.rename('ridges.txt', f'../Open3d_Test/{project_name}_ridges.txt')\n",
    "os.chdir(here)\n",
    "os.system('pwd')\n",
    "crestline_V_3d, crestline_E = ReadCrestLine(f\"{project_name}_ravines.txt\")"
   ]
  },
  {
   "cell_type": "code",
   "execution_count": null,
   "metadata": {},
   "outputs": [],
   "source": [
    "os.chdir(here)\n",
    "def export_lines(vertices, edges, filename):\n",
    "    line_set = o3d.geometry.LineSet(\n",
    "        points=o3d.utility.Vector3dVector(vertices),\n",
    "        lines=o3d.utility.Vector2iVector(edges),\n",
    "    )\n",
    "    o3d.io.write_line_set(filename, line_set, print_progress=True)\n",
    "\n",
    "export_lines(vertices=crestline_V_3d,\n",
    "             edges=crestline_E[:,0:2].astype(int),\n",
    "             filename=f\"{project_name}_3d_lines.ply\")\n",
    "print(f\"saved mesh file: {project_name}_3d_lines.ply\")"
   ]
  }
 ],
 "metadata": {
  "kernelspec": {
   "display_name": "base",
   "language": "python",
   "name": "python3"
  },
  "language_info": {
   "codemirror_mode": {
    "name": "ipython",
    "version": 3
   },
   "file_extension": ".py",
   "mimetype": "text/x-python",
   "name": "python",
   "nbconvert_exporter": "python",
   "pygments_lexer": "ipython3",
   "version": "3.9.13"
  },
  "orig_nbformat": 4
 },
 "nbformat": 4,
 "nbformat_minor": 2
}
