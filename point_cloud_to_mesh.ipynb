{
 "cells": [
  {
   "cell_type": "code",
   "execution_count": 1,
   "metadata": {},
   "outputs": [
    {
     "name": "stdout",
     "output_type": "stream",
     "text": [
      "Jupyter environment detected. Enabling Open3D WebVisualizer.\n",
      "[Open3D INFO] WebRTC GUI backend enabled.\n",
      "[Open3D INFO] WebRTCWindowSystem: HTTP handshake server disabled.\n"
     ]
    }
   ],
   "source": [
    "import numpy as np\n",
    "# import trimesh as tr\n",
    "import open3d as o3d"
   ]
  },
  {
   "cell_type": "code",
   "execution_count": null,
   "metadata": {},
   "outputs": [],
   "source": [
    "\"\"\"Be sure to write down the 'movement' vector that gets print out!\"\"\"\n",
    "name = '' # name of point cloud\n",
    "pc_raw = o3d.io.read_point_cloud(f\"{name}.ply\")\n",
    "pc_raw = np.asarray(pc_raw.points)\n",
    "print(pc_raw.shape)\n",
    "\n",
    "def subtract_mean(array):\n",
    "    x = np.mean(array[:, 0])\n",
    "    y = np.mean(array[:, 1])\n",
    "    z = np.mean(array[:, 2])\n",
    "    array[:, 0] = array[:, 0] - x\n",
    "    array[:, 1] = array[:, 1] - y\n",
    "    array[:, 2] = array[:, 2] - z\n",
    "    displacement = np.asarray([x, y, z])\n",
    "    return array, displacement\n",
    "\n",
    "moved, movement = subtract_mean(pc_raw)\n",
    "print(f\"movement: {movement}\")\n",
    "print(f\"largest number: {np.max(moved)}\")\n",
    "print(f\"smallest number: {np.min(moved)}\")\n",
    "pc = o3d.geometry.PointCloud()\n",
    "pc.points = o3d.utility.Vector3dVector(moved)\n",
    "o3d.io.write_point_cloud(f\"{name}_moved.ply\", pc)"
   ]
  },
  {
   "cell_type": "code",
   "execution_count": null,
   "metadata": {},
   "outputs": [],
   "source": [
    "o3d.geometry.KDTreeSearchParam.KNNSearch = 10\n",
    "pc.estimate_normals()\n",
    "pc.orient_normals_to_align_with_direction(\n",
    "    orientation_reference=np.asarray([0.0, 0.0, 1.0]))\n",
    "o3d.io.write_point_cloud(f\"{name}_normals_fixed.ply\", pc)"
   ]
  },
  {
   "cell_type": "code",
   "execution_count": 2,
   "metadata": {},
   "outputs": [],
   "source": [
    "\"\"\"Optional: load existing point cloud\"\"\"\n",
    "# pc = o3d.io.read_point_cloud(\"tgb_231205_normals_fixed.ply\")"
   ]
  },
  {
   "cell_type": "code",
   "execution_count": 4,
   "metadata": {},
   "outputs": [
    {
     "data": {
      "text/plain": [
       "True"
      ]
     },
     "execution_count": 4,
     "metadata": {},
     "output_type": "execute_result"
    }
   ],
   "source": [
    "depth = 11\n",
    "mesh, densities = o3d.geometry.TriangleMesh.create_from_point_cloud_poisson(\n",
    "     pc, depth=depth)\n",
    "remove_vertices_mask = densities < np.quantile(densities, 0.005)\n",
    "mesh.remove_vertices_by_mask(remove_vertices_mask)\n",
    "o3d.io.write_triangle_mesh(f\"{name}_mesh_d={depth}.ply\", mesh)"
   ]
  }
 ],
 "metadata": {
  "kernelspec": {
   "display_name": "Python 3",
   "language": "python",
   "name": "python3"
  },
  "language_info": {
   "codemirror_mode": {
    "name": "ipython",
    "version": 3
   },
   "file_extension": ".py",
   "mimetype": "text/x-python",
   "name": "python",
   "nbconvert_exporter": "python",
   "pygments_lexer": "ipython3",
   "version": "3.9.13"
  }
 },
 "nbformat": 4,
 "nbformat_minor": 2
}
