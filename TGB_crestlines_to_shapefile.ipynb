{
 "cells": [
  {
   "cell_type": "markdown",
   "metadata": {},
   "source": [
    "### <b>Turn Crestlines into Shapefile</b>"
   ]
  },
  {
   "cell_type": "code",
   "execution_count": 1,
   "metadata": {},
   "outputs": [],
   "source": [
    "import numpy as np\n",
    "from shapely.geometry import LineString\n",
    "import geopandas as gpd\n",
    "from FeatureLines import ReadCrestLine\n",
    "import matplotlib.pyplot as plt"
   ]
  },
  {
   "cell_type": "code",
   "execution_count": 3,
   "metadata": {},
   "outputs": [],
   "source": [
    "project_filename = '' # name of project, must be same as that used in previous files!"
   ]
  },
  {
   "cell_type": "code",
   "execution_count": 12,
   "metadata": {},
   "outputs": [],
   "source": [
    "parent_folder = \"\" # 'stitch_together_for_231206/'\n",
    "name_to_filename_dictionary = {\n",
    "    # this is a dictionary of crest line files we used (note the 'ravines')\n",
    "    'main mound left' # preferred display name of the crest line\n",
    "        : {\n",
    "        'filename': ''} # name of crest line file,    \n",
    "}"
   ]
  },
  {
   "cell_type": "code",
   "execution_count": 3,
   "metadata": {},
   "outputs": [],
   "source": [
    "def undo_centering(names_readable : list[str], list_of_lines : list[LineString], \n",
    "  movement_to_undo : list[float]):\n",
    "  for name in names_readable:\n",
    "    print(f\"working on: {name}\")\n",
    "    filename = f\"{name_to_filename_dictionary[name]['filename']}.txt\"\n",
    "    print(f\"filename: {filename}\")\n",
    "    open(filename)\n",
    "    crestline_V_3d, crestline_E = ReadCrestLine(f\"{name_to_filename_dictionary[name]['filename']}.txt\")\n",
    "    print(f\"we got: \\n\\t{crestline_V_3d.shape[0]} points, \\n\\t{crestline_E.shape[0]} lines\")\n",
    "    if movement_to_undo != [0.0, 0.0, 0.0]:\n",
    "        for (start_index, end_index, _) in crestline_E:\n",
    "            start_point = [\n",
    "                crestline_V_3d[start_index][0] + movement_to_undo[0],\n",
    "                crestline_V_3d[start_index][1] + movement_to_undo[1]]\n",
    "            end_point = [\n",
    "                crestline_V_3d[end_index][0] + movement_to_undo[0],\n",
    "                crestline_V_3d[end_index][1] + movement_to_undo[1]]\n",
    "            line = LineString([start_point, end_point])\n",
    "            list_of_lines.append(line)  "
   ]
  },
  {
   "cell_type": "code",
   "execution_count": null,
   "metadata": {},
   "outputs": [],
   "source": [
    "# the following 'centering_movement_to_undo' displacement vector comes from point_cloud_to_mesh.ipynb\n",
    "# note that in this code implementation, the displacement vector is the same for all TGB crest line files we work with\n",
    "# this because the crest lines in each crest line file are from sections of the same mesh\n",
    "# and therefore share its displacement from the origin\n",
    "centering_movement_to_undo = [4.37392254e+05, 1.43946825e+07, 1.95543722e+03]\n",
    "lines_d_13 : list[LineString] = []\n",
    "region_name_list_d_13 = ['main mound left', 'main mound right', 'left mound left', 'right mound', 'right deserts',\n",
    "                         'left mound right', 'lower fields']\n",
    "undo_centering(region_name_list_d_13, lines_d_13, centering_movement_to_undo)"
   ]
  },
  {
   "cell_type": "code",
   "execution_count": 75,
   "metadata": {},
   "outputs": [],
   "source": [
    "# SET precision to 6 decimal places\n",
    "gpd.options.display_precision = 6\n",
    "# lines_frame.crs = 'EPSG:4326'\n",
    "lines_frame_d_13 = gpd.GeoDataFrame(data={'geometry': lines_d_13}, crs=\"EPSG:4326\")"
   ]
  },
  {
   "cell_type": "code",
   "execution_count": null,
   "metadata": {},
   "outputs": [],
   "source": [
    "f, ax = plt.subplots(figsize=(128, 64))\n",
    "lines_frame_d_13.plot(aspect=1, color='green', ax=ax)\n",
    "ax.set_axis_off()"
   ]
  },
  {
   "cell_type": "code",
   "execution_count": 13,
   "metadata": {},
   "outputs": [],
   "source": [
    "\"\"\"Save crest lines as Shapefile\"\"\"\n",
    "lines_frame_d_13.to_file(f\"{project_filename}.shp\")"
   ]
  }
 ],
 "metadata": {
  "kernelspec": {
   "display_name": "base",
   "language": "python",
   "name": "python3"
  },
  "language_info": {
   "codemirror_mode": {
    "name": "ipython",
    "version": 3
   },
   "file_extension": ".py",
   "mimetype": "text/x-python",
   "name": "python",
   "nbconvert_exporter": "python",
   "pygments_lexer": "ipython3",
   "version": "3.9.13"
  },
  "orig_nbformat": 4
 },
 "nbformat": 4,
 "nbformat_minor": 2
}
