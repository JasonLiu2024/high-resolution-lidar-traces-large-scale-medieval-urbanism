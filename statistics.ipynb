{
 "cells": [
  {
   "cell_type": "code",
   "execution_count": 1,
   "metadata": {},
   "outputs": [],
   "source": [
    "from scipy.stats import chi2_contingency"
   ]
  },
  {
   "cell_type": "code",
   "execution_count": 41,
   "metadata": {},
   "outputs": [
    {
     "name": "stdout",
     "output_type": "stream",
     "text": [
      "Chi2ContingencyResult(statistic=2246.610943722898, pvalue=0.0, dof=1, expected_freq=array([[2297676.55969875,  502404.44030125],\n",
      "       [ 570602.44030125,  124766.55969875]]))\n",
      "0.00000000000000000000E+00\n",
      "chi_squared: 4446.904655316496 \n",
      "p_value: 0\n",
      "0.0\n"
     ]
    }
   ],
   "source": [
    "from decimal import Decimal\n",
    "from pprint import pprint\n",
    "def McNemar(true_positive: int,\n",
    "            false_positive: int,\n",
    "            false_negative: int,\n",
    "            true_negative: int\n",
    "            ):\n",
    "    chi_squared = (abs(false_positive - false_negative) - 1) ** 2 / \\\n",
    "        (false_positive + false_negative)\n",
    "    res = chi2_contingency(\n",
    "        [[true_positive, false_positive], \n",
    "        [false_negative, true_negative]])\n",
    "    print(res)\n",
    "    print('{:.20E}'.format(res.pvalue))\n",
    "    print(f\"chi_squared: {chi_squared}\",\n",
    "        f\"\\np_value: {Decimal(res.pvalue)}\",\n",
    "        )\n",
    "    pprint(res.pvalue)\n",
    "McNemar(true_positive=2311251,\n",
    "        false_positive=488830,\n",
    "        false_negative=557028,\n",
    "        true_negative=138341)"
   ]
  }
 ],
 "metadata": {
  "kernelspec": {
   "display_name": "base",
   "language": "python",
   "name": "python3"
  },
  "language_info": {
   "codemirror_mode": {
    "name": "ipython",
    "version": 3
   },
   "file_extension": ".py",
   "mimetype": "text/x-python",
   "name": "python",
   "nbconvert_exporter": "python",
   "pygments_lexer": "ipython3",
   "version": "3.9.undefined"
  }
 },
 "nbformat": 4,
 "nbformat_minor": 2
}
